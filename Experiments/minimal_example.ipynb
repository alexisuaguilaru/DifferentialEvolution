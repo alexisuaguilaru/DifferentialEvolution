{
 "cells": [
  {
   "cell_type": "code",
   "execution_count": 6,
   "id": "dd11d45d-7736-4d73-a941-0029909736d8",
   "metadata": {},
   "outputs": [],
   "source": [
    "#!! Import for use libraries from /\n",
    "import sys\n",
    "sys.path.append('../')\n",
    "\n",
    "import DifferentialEvolution\n",
    "import TestingFunctions\n",
    "import ProcessResults"
   ]
  }
 ],
 "metadata": {
  "kernelspec": {
   "display_name": "Python 3 (ipykernel)",
   "language": "python",
   "name": "python3"
  },
  "language_info": {
   "codemirror_mode": {
    "name": "ipython",
    "version": 3
   },
   "file_extension": ".py",
   "mimetype": "text/x-python",
   "name": "python",
   "nbconvert_exporter": "python",
   "pygments_lexer": "ipython3",
   "version": "3.12.10"
  }
 },
 "nbformat": 4,
 "nbformat_minor": 5
}
