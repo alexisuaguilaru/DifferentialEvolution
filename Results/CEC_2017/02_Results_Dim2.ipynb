{
 "cells": [
  {
   "cell_type": "markdown",
   "metadata": {},
   "source": [
    "# Import Libraries and Code for Plotting"
   ]
  },
  {
   "cell_type": "code",
   "execution_count": 1,
   "metadata": {},
   "outputs": [],
   "source": [
    "import pandas as pd\n",
    "\n",
    "import seaborn as sns\n",
    "import matplotlib.pyplot as plt\n",
    "\n",
    "import cupy as cp"
   ]
  },
  {
   "cell_type": "code",
   "execution_count": 2,
   "metadata": {},
   "outputs": [],
   "source": [
    "VariantNames = ['Base','FixedRandomSample','ProportionalRandomSample','Agglomerative','RandomParameters']\n",
    "ValidFunctions = list(range(1,10))+list(range(20,28))"
   ]
  },
  {
   "cell_type": "code",
   "execution_count": null,
   "metadata": {},
   "outputs": [],
   "source": [
    "def Table_MediansIterations(Experiment,DimensionNumber,VariantNames,Tolerance):\n",
    "    # Firt median of optimal values, then search iteration\n",
    "    data_medians_iterations = dict()\n",
    "\n",
    "    for number_function in ValidFunctions:\n",
    "        iterations_variants = list(IterationsVariants_MediansIterations(Experiment,DimensionNumber,VariantNames,number_function,Tolerance))\n",
    "        data_medians_iterations[f\"F{number_function}\"] = iterations_variants\n",
    "\n",
    "    return data_medians_iterations\n",
    "\n",
    "def IterationsVariants_MediansIterations(Experiment,DimensionNumber,VariantNames,NumberFunction,Tolerance):\n",
    "    optimal_value = cp.array(-(NumberFunction*cp.float64(100)+Tolerance),dtype=float)\n",
    "\n",
    "    for variant_name in VariantNames:\n",
    "        data_optimal_values = cp.loadtxt(f\"{Experiment[0]}_{Experiment[1]}_Dim_{DimensionNumber}/{variant_name}/OptimalValues_F{NumberFunction}.csv\",dtype=float,delimiter=',')\n",
    "        medians_optimal = -cp.median(data_optimal_values,axis=0)\n",
    "\n",
    "        yield medians_optimal.searchsorted(optimal_value).get()"
   ]
  },
  {
   "cell_type": "code",
   "execution_count": 63,
   "metadata": {},
   "outputs": [],
   "source": [
    "def Table_IterationsMedians(Experiment,DimensionNumber,VariantNames,Tolerance):\n",
    "    # First search iteration to reach optimal, then median of iterations\n",
    "    data_iterations_meadians = dict()\n",
    "\n",
    "    for number_function in ValidFunctions:\n",
    "        iterations_variants = list(IterationsVariants_IterationsMedians(Experiment,DimensionNumber,VariantNames,number_function,Tolerance))\n",
    "        data_iterations_meadians[f\"F{number_function}\"] = iterations_variants\n",
    "\n",
    "    return data_iterations_meadians\n",
    "\n",
    "def IterationsVariants_IterationsMedians(Experiment,DimensionNumber,VariantNames,NumberFunction,Tolerance):\n",
    "    tolerance = -cp.array(Tolerance,dtype=float)\n",
    "    \n",
    "    for variant_name in VariantNames:\n",
    "        data_optimal_values = cp.loadtxt(f\"{Experiment[0]}_{Experiment[1]}_Dim_{DimensionNumber}/{variant_name}/OptimalValues_F{NumberFunction}.csv\",dtype=float,delimiter=',')\n",
    "        data_optimal_values -= NumberFunction*cp.float64(100)\n",
    "        iterations_optimal = cp.apply_along_axis(lambda arr : cp.searchsorted(-arr,tolerance),axis=1,arr=data_optimal_values)\n",
    "\n",
    "        yield cp.median(iterations_optimal).get()"
   ]
  },
  {
   "cell_type": "markdown",
   "metadata": {},
   "source": [
    "# Results"
   ]
  },
  {
   "cell_type": "code",
   "execution_count": 67,
   "metadata": {},
   "outputs": [],
   "source": [
    "globals_results = globals()"
   ]
  },
  {
   "cell_type": "markdown",
   "metadata": {},
   "source": [
    "## Using Optimal Values First"
   ]
  },
  {
   "cell_type": "code",
   "execution_count": null,
   "metadata": {},
   "outputs": [],
   "source": [
    "type_result = 'Medians'\n",
    "dimension_number = '2'\n",
    "tolerance = 0.1"
   ]
  },
  {
   "cell_type": "code",
   "execution_count": null,
   "metadata": {},
   "outputs": [],
   "source": [
    "experiment = ['02','100']\n",
    "variant_names = VariantNames\n",
    "\n",
    "globals_results[f'{type_result}Results_{experiment[1]}'] = Table_MediansIterations(experiment,dimension_number,variant_names,tolerance)"
   ]
  },
  {
   "cell_type": "code",
   "execution_count": null,
   "metadata": {},
   "outputs": [],
   "source": [
    "variant_names = [VariantNames[0],VariantNames[-1]]\n",
    "\n",
    "for population_size in ['12','25','37','50','62','75','87']:\n",
    "    experiment[1] = population_size\n",
    "    globals_results[f'{type_result}Results_{experiment[1]}'] = Table_MediansIterations(experiment,dimension_number,variant_names,tolerance)"
   ]
  },
  {
   "cell_type": "markdown",
   "metadata": {},
   "source": [
    "## Using Iterations Firts"
   ]
  },
  {
   "cell_type": "code",
   "execution_count": null,
   "metadata": {},
   "outputs": [],
   "source": [
    "type_result = 'Iterations'\n",
    "dimension_number = '2'\n",
    "tolerance = 0.1"
   ]
  },
  {
   "cell_type": "code",
   "execution_count": null,
   "metadata": {},
   "outputs": [],
   "source": [
    "experiment = ['02','100']\n",
    "variant_names = VariantNames\n",
    "\n",
    "globals_results[f'{type_result}Results_{experiment[1]}'] = Table_IterationsMedians(experiment,dimension_number,variant_names,tolerance)"
   ]
  },
  {
   "cell_type": "code",
   "execution_count": null,
   "metadata": {},
   "outputs": [],
   "source": [
    "variant_names = [VariantNames[0],VariantNames[-1]]\n",
    "\n",
    "for population_size in ['12','25','37','50','62','75','87']:\n",
    "    experiment[1] = population_size\n",
    "    globals_results[f'{type_result}Results_{experiment[1]}'] = Table_IterationsMedians(experiment,dimension_number,variant_names,tolerance)"
   ]
  }
 ],
 "metadata": {
  "kernelspec": {
   "display_name": "gpu",
   "language": "python",
   "name": "python3"
  },
  "language_info": {
   "codemirror_mode": {
    "name": "ipython",
    "version": 3
   },
   "file_extension": ".py",
   "mimetype": "text/x-python",
   "name": "python",
   "nbconvert_exporter": "python",
   "pygments_lexer": "ipython3",
   "version": "3.12.5"
  }
 },
 "nbformat": 4,
 "nbformat_minor": 2
}
